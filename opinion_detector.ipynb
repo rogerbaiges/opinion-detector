{
 "cells": [
  {
   "cell_type": "markdown",
   "metadata": {},
   "source": [
    "# IMPORTS"
   ]
  },
  {
   "cell_type": "code",
   "execution_count": 14,
   "metadata": {},
   "outputs": [],
   "source": [
    "import nltk\n",
    "from nltk.corpus import movie_reviews as mr\n",
    "from nltk.corpus import stopwords\n",
    "from sklearn.feature_extraction.text import CountVectorizer\n",
    "from sklearn.model_selection import train_test_split\n",
    "import string"
   ]
  },
  {
   "cell_type": "code",
   "execution_count": 15,
   "metadata": {},
   "outputs": [],
   "source": [
    "import warnings\n",
    "warnings.filterwarnings(\"ignore\", category=RuntimeWarning, message=\"overflow encountered in cast\")"
   ]
  },
  {
   "cell_type": "code",
   "execution_count": 16,
   "metadata": {},
   "outputs": [],
   "source": [
    "import nltk\n",
    "import ssl\n",
    "\n",
    "try:\n",
    "    _create_unverified_https_context = ssl._create_unverified_context\n",
    "except AttributeError:\n",
    "    pass\n",
    "else:\n",
    "    ssl._create_default_https_context = _create_unverified_https_context"
   ]
  },
  {
   "cell_type": "code",
   "execution_count": 17,
   "metadata": {},
   "outputs": [
    {
     "name": "stderr",
     "output_type": "stream",
     "text": [
      "[nltk_data] Downloading package movie_reviews to\n",
      "[nltk_data]     /Users/rogerbaigess/nltk_data...\n",
      "[nltk_data]   Package movie_reviews is already up-to-date!\n",
      "[nltk_data] Downloading package punkt to\n",
      "[nltk_data]     /Users/rogerbaigess/nltk_data...\n",
      "[nltk_data]   Package punkt is already up-to-date!\n",
      "[nltk_data] Downloading package stopwords to\n",
      "[nltk_data]     /Users/rogerbaigess/nltk_data...\n",
      "[nltk_data]   Package stopwords is already up-to-date!\n"
     ]
    },
    {
     "data": {
      "text/plain": [
       "True"
      ]
     },
     "execution_count": 17,
     "metadata": {},
     "output_type": "execute_result"
    }
   ],
   "source": [
    "# Ensure we have the necessary datasets and tools from NLTK\n",
    "nltk.download('movie_reviews')\n",
    "nltk.download('punkt')\n",
    "nltk.download('stopwords')"
   ]
  },
  {
   "cell_type": "code",
   "execution_count": 21,
   "metadata": {},
   "outputs": [],
   "source": [
    "\n",
    "# Preprocessing function\n",
    "def preprocess_documents():\n",
    "    # Create a list of tuples where each tuple is a document represented by a list of words and its label\n",
    "    documents = [(list(mr.words(fileid)), category)\n",
    "                 for category in mr.categories()\n",
    "                 for fileid in mr.fileids(category)]\n",
    "    \n",
    "    # Convert list of words to single string for each document\n",
    "    documents = [(' '.join(document), category) for (document, category) in documents]\n",
    "    \n",
    "    # Remove punctuation and lowercase all words\n",
    "    table = str.maketrans('', '', string.punctuation)\n",
    "    documents = [(doc.translate(table).lower(), category) for (doc, category) in documents]\n",
    "    \n",
    "    # Remove stopwords\n",
    "    stop_words = set(stopwords.words('english'))\n",
    "    documents = [(' '.join([word for word in doc.split() if word not in stop_words]), category)\n",
    "                 for (doc, category) in documents]\n",
    "    \n",
    "    return documents\n",
    "\n",
    "# Preprocess the documents\n",
    "processed_documents = preprocess_documents()\n",
    "\n",
    "# Split the preprocessed documents into data and labels\n",
    "data = [doc for (doc, _) in processed_documents]\n",
    "labels = [category for (_, category) in processed_documents]\n",
    "\n",
    "# Use CountVectorizer to convert data to a matrix of token counts\n",
    "vectorizer = CountVectorizer()\n",
    "X = vectorizer.fit_transform(data)\n",
    "\n",
    "# Split the data into training and testing sets\n",
    "X_train, X_test, y_train, y_test = train_test_split(\n",
    "    X, labels, test_size=0.2, random_state=42, stratify=labels\n",
    ")"
   ]
  },
  {
   "cell_type": "code",
   "execution_count": 28,
   "metadata": {},
   "outputs": [
    {
     "name": "stdout",
     "output_type": "stream",
     "text": [
      "Training Random Forest...\n",
      "Evaluating Random Forest...\n",
      "Confusion Matrix:\n",
      "[[162  38]\n",
      " [ 38 162]]\n",
      "Classification Report:\n",
      "              precision    recall  f1-score   support\n",
      "\n",
      "         neg       0.81      0.81      0.81       200\n",
      "         pos       0.81      0.81      0.81       200\n",
      "\n",
      "    accuracy                           0.81       400\n",
      "   macro avg       0.81      0.81      0.81       400\n",
      "weighted avg       0.81      0.81      0.81       400\n",
      "\n",
      "Accuracy Score: 0.81\n",
      "\n",
      "\n",
      "Training K-Nearest Neighbors...\n",
      "Evaluating K-Nearest Neighbors...\n",
      "Confusion Matrix:\n",
      "[[178  22]\n",
      " [159  41]]\n",
      "Classification Report:\n",
      "              precision    recall  f1-score   support\n",
      "\n",
      "         neg       0.53      0.89      0.66       200\n",
      "         pos       0.65      0.20      0.31       200\n",
      "\n",
      "    accuracy                           0.55       400\n",
      "   macro avg       0.59      0.55      0.49       400\n",
      "weighted avg       0.59      0.55      0.49       400\n",
      "\n",
      "Accuracy Score: 0.5475\n",
      "\n",
      "\n"
     ]
    }
   ],
   "source": [
    "import numpy as np\n",
    "from sklearn.ensemble import RandomForestClassifier\n",
    "from sklearn.neighbors import KNeighborsClassifier\n",
    "from xgboost import XGBClassifier\n",
    "from interpret.glassbox import ExplainableBoostingClassifier\n",
    "from sklearn.metrics import confusion_matrix, classification_report, accuracy_score\n",
    "\n",
    "\n",
    "# Initialize models\n",
    "rf_clf = RandomForestClassifier(random_state=42)\n",
    "knn_clf = KNeighborsClassifier()\n",
    "ebm_clf = ExplainableBoostingClassifier()\n",
    "\n",
    "\n",
    "# List of models\n",
    "classifiers = {\n",
    "    \"Random Forest\": rf_clf,\n",
    "    \"K-Nearest Neighbors\": knn_clf,\n",
    "}\n",
    "\n",
    "# Train and evaluate models\n",
    "for model_name, model in classifiers.items():\n",
    "    print(f\"Training {model_name}...\")\n",
    "    model.fit(X_train, y_train)\n",
    "    predictions = model.predict(X_test)\n",
    "    \n",
    "    # Evaluation\n",
    "    print(f\"Evaluating {model_name}...\")\n",
    "    print(\"Confusion Matrix:\")\n",
    "    print(confusion_matrix(y_test, predictions))\n",
    "    print(\"Classification Report:\")\n",
    "    print(classification_report(y_test, predictions))\n",
    "    print(\"Accuracy Score:\", accuracy_score(y_test, predictions))\n",
    "    print(\"\\n\")\n"
   ]
  },
  {
   "cell_type": "code",
   "execution_count": 27,
   "metadata": {},
   "outputs": [
    {
     "name": "stdout",
     "output_type": "stream",
     "text": [
      "Confusion Matrix:\n",
      "[[164  36]\n",
      " [ 36 164]]\n",
      "\n",
      "Classification Report:\n",
      "              precision    recall  f1-score   support\n",
      "\n",
      "         neg       0.82      0.82      0.82       200\n",
      "         pos       0.82      0.82      0.82       200\n",
      "\n",
      "    accuracy                           0.82       400\n",
      "   macro avg       0.82      0.82      0.82       400\n",
      "weighted avg       0.82      0.82      0.82       400\n",
      "\n",
      "\n",
      "Accuracy Score: 0.82\n"
     ]
    }
   ],
   "source": [
    "from sklearn.preprocessing import LabelEncoder\n",
    "\n",
    "# Convert labels to numeric values\n",
    "encoder = LabelEncoder()\n",
    "y_train_encoded = encoder.fit_transform(y_train)\n",
    "y_test_encoded = encoder.transform(y_test)\n",
    "\n",
    "# Initialize XGBoost classifier\n",
    "xgb_clf = XGBClassifier(use_label_encoder=False, eval_metric='logloss')\n",
    "\n",
    "# Fit the model\n",
    "xgb_clf.fit(X_train, y_train_encoded)\n",
    "\n",
    "# Predict the labels of the test set\n",
    "xgb_pred = xgb_clf.predict(X_test)\n",
    "\n",
    "# Convert the predictions back to the original labels\n",
    "xgb_pred_labels = encoder.inverse_transform(xgb_pred.astype(int))\n",
    "\n",
    "# Evaluation metrics\n",
    "print(\"Confusion Matrix:\")\n",
    "print(confusion_matrix(y_test, xgb_pred_labels))\n",
    "print(\"\\nClassification Report:\")\n",
    "print(classification_report(y_test, xgb_pred_labels))\n",
    "print(\"\\nAccuracy Score:\", accuracy_score(y_test, xgb_pred_labels))"
   ]
  }
 ],
 "metadata": {
  "kernelspec": {
   "display_name": "Python 3",
   "language": "python",
   "name": "python3"
  },
  "language_info": {
   "codemirror_mode": {
    "name": "ipython",
    "version": 3
   },
   "file_extension": ".py",
   "mimetype": "text/x-python",
   "name": "python",
   "nbconvert_exporter": "python",
   "pygments_lexer": "ipython3",
   "version": "3.10.6"
  }
 },
 "nbformat": 4,
 "nbformat_minor": 2
}
