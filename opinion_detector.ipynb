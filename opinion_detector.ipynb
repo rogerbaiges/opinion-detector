{
 "cells": [
  {
   "cell_type": "markdown",
   "metadata": {},
   "source": [
    "# IMPORTS"
   ]
  },
  {
   "cell_type": "code",
   "execution_count": 74,
   "metadata": {},
   "outputs": [],
   "source": [
    "import nltk\n",
    "from nltk.corpus import movie_reviews as mr\n",
    "from nltk.corpus import stopwords\n",
    "from sklearn.feature_extraction.text import CountVectorizer\n",
    "from sklearn.model_selection import train_test_split\n",
    "import string"
   ]
  },
  {
   "cell_type": "code",
   "execution_count": 75,
   "metadata": {},
   "outputs": [],
   "source": [
    "import warnings\n",
    "warnings.filterwarnings(\"ignore\", category=RuntimeWarning, message=\"overflow encountered in cast\")"
   ]
  },
  {
   "cell_type": "code",
   "execution_count": 76,
   "metadata": {},
   "outputs": [],
   "source": [
    "import nltk\n",
    "import ssl\n",
    "\n",
    "try:\n",
    "    _create_unverified_https_context = ssl._create_unverified_context\n",
    "except AttributeError:\n",
    "    pass\n",
    "else:\n",
    "    ssl._create_default_https_context = _create_unverified_https_context"
   ]
  },
  {
   "cell_type": "code",
   "execution_count": 77,
   "metadata": {},
   "outputs": [
    {
     "name": "stderr",
     "output_type": "stream",
     "text": [
      "[nltk_data] Downloading package movie_reviews to\n",
      "[nltk_data]     /Users/rogerbaigess/nltk_data...\n",
      "[nltk_data]   Package movie_reviews is already up-to-date!\n",
      "[nltk_data] Downloading package punkt to\n",
      "[nltk_data]     /Users/rogerbaigess/nltk_data...\n",
      "[nltk_data]   Package punkt is already up-to-date!\n",
      "[nltk_data] Downloading package stopwords to\n",
      "[nltk_data]     /Users/rogerbaigess/nltk_data...\n",
      "[nltk_data]   Package stopwords is already up-to-date!\n"
     ]
    },
    {
     "data": {
      "text/plain": [
       "True"
      ]
     },
     "execution_count": 77,
     "metadata": {},
     "output_type": "execute_result"
    }
   ],
   "source": [
    "# Ensure we have the necessary datasets and tools from NLTK\n",
    "nltk.download('movie_reviews')\n",
    "nltk.download('punkt')\n",
    "nltk.download('stopwords')"
   ]
  },
  {
   "cell_type": "code",
   "execution_count": 78,
   "metadata": {},
   "outputs": [],
   "source": [
    "# Crear data y labels\n",
    "documents = [(list(mr.words(fileid)), category)\n",
    "             for category in mr.categories()\n",
    "             for fileid in mr.fileids(category)]\n",
    "data = [' '.join(words) for words, _ in documents]\n",
    "labels = [category for _, category in documents]\n",
    "\n",
    "# Dividir en entrenamiento y prueba\n",
    "X_train, X_test, y_train, y_test = train_test_split(data, labels, test_size=0.2, random_state=42, stratify=labels)"
   ]
  },
  {
   "cell_type": "code",
   "execution_count": 79,
   "metadata": {},
   "outputs": [],
   "source": [
    "import re\n",
    "from nltk.tokenize import word_tokenize\n",
    "from nltk.stem import WordNetLemmatizer\n",
    "\n",
    "stop_words = set(stopwords.words('english'))\n",
    "\n",
    "# Mejorar la eliminación de stopwords incluyendo filtrado por categoría gramatical\n",
    "def improved_preprocess(document):\n",
    "    # Remove numbers\n",
    "    document = re.sub(r'\\d+', '', document)\n",
    "    \n",
    "    # Remove punctuation and convert to lowercase\n",
    "    document = document.translate(str.maketrans('', '', string.punctuation)).lower()\n",
    "    \n",
    "    # Tokenize the document\n",
    "    tokens = word_tokenize(document)\n",
    "    \n",
    "    # Initialize the lemmatizer\n",
    "    lemmatizer = WordNetLemmatizer()\n",
    "    \n",
    "    # Remove stopwords and lemmatize the tokens\n",
    "    filtered_tokens = [lemmatizer.lemmatize(word) for word in tokens if word not in stop_words]\n",
    "    \n",
    "    # Combine the filtered tokens back into a single string\n",
    "    return ' '.join(filtered_tokens)\n",
    "\n",
    "# Aplicar preprocesamiento a los conjuntos de entrenamiento y prueba\n",
    "data_train_processed = [improved_preprocess(doc) for doc in X_train]\n",
    "data_test_processed = [improved_preprocess(doc) for doc in X_test]\n"
   ]
  },
  {
   "cell_type": "code",
   "execution_count": 80,
   "metadata": {},
   "outputs": [],
   "source": [
    "# Use CountVectorizer to convert data to a matrix of token counts\n",
    "vectorizer = CountVectorizer(min_df=5)\n",
    "data_train_processed = vectorizer.fit_transform(data_train_processed)\n",
    "data_test_processed = vectorizer.transform(data_test_processed)"
   ]
  },
  {
   "cell_type": "code",
   "execution_count": 84,
   "metadata": {},
   "outputs": [
    {
     "name": "stdout",
     "output_type": "stream",
     "text": [
      "Training Random Forest...\n",
      "Evaluating Random Forest...\n",
      "Confusion Matrix:\n",
      "[[162  38]\n",
      " [ 25 175]]\n",
      "Classification Report:\n",
      "              precision    recall  f1-score   support\n",
      "\n",
      "         neg       0.87      0.81      0.84       200\n",
      "         pos       0.82      0.88      0.85       200\n",
      "\n",
      "    accuracy                           0.84       400\n",
      "   macro avg       0.84      0.84      0.84       400\n",
      "weighted avg       0.84      0.84      0.84       400\n",
      "\n",
      "Accuracy Score: 0.8425\n",
      "\n",
      "\n",
      "Training K-Nearest Neighbors...\n",
      "Evaluating K-Nearest Neighbors...\n",
      "Confusion Matrix:\n",
      "[[161  39]\n",
      " [106  94]]\n",
      "Classification Report:\n",
      "              precision    recall  f1-score   support\n",
      "\n",
      "         neg       0.60      0.81      0.69       200\n",
      "         pos       0.71      0.47      0.56       200\n",
      "\n",
      "    accuracy                           0.64       400\n",
      "   macro avg       0.65      0.64      0.63       400\n",
      "weighted avg       0.65      0.64      0.63       400\n",
      "\n",
      "Accuracy Score: 0.6375\n",
      "\n",
      "\n",
      "Training SVM...\n",
      "Evaluating SVM...\n",
      "Confusion Matrix:\n",
      "[[161  39]\n",
      " [ 37 163]]\n",
      "Classification Report:\n",
      "              precision    recall  f1-score   support\n",
      "\n",
      "         neg       0.81      0.81      0.81       200\n",
      "         pos       0.81      0.81      0.81       200\n",
      "\n",
      "    accuracy                           0.81       400\n",
      "   macro avg       0.81      0.81      0.81       400\n",
      "weighted avg       0.81      0.81      0.81       400\n",
      "\n",
      "Accuracy Score: 0.81\n",
      "\n",
      "\n"
     ]
    }
   ],
   "source": [
    "import numpy as np\n",
    "from sklearn.ensemble import RandomForestClassifier\n",
    "from sklearn.neighbors import KNeighborsClassifier\n",
    "from xgboost import XGBClassifier\n",
    "from sklearn.svm import SVC\n",
    "from sklearn.metrics import confusion_matrix, classification_report, accuracy_score, f1_score\n",
    "\n",
    "\n",
    "# Initialize models\n",
    "rf_clf = RandomForestClassifier(random_state=42)\n",
    "knn_clf = KNeighborsClassifier()\n",
    "xgb_clf = XGBClassifier(use_label_encoder=False, eval_metric='logloss')\n",
    "svm_clf = SVC()\n",
    "\n",
    "\n",
    "# List of models\n",
    "classifiers = {\n",
    "    \"Random Forest\": (rf_clf, False),\n",
    "    \"K-Nearest Neighbors\": (knn_clf, False),\n",
    "    \"SVM\": (svm_clf, False),\n",
    "}\n",
    "\n",
    "def train_evaluate_models():\n",
    "    # Train and evaluate models\n",
    "    for model_name, (model, encode_tag) in classifiers.items():\n",
    "        print(f\"Training {model_name}...\")\n",
    "        model.fit(data_train_processed, y_train)\n",
    "        predictions = model.predict(data_test_processed)\n",
    "        \n",
    "        # Evaluation\n",
    "        print(f\"Evaluating {model_name}...\")\n",
    "        print(\"Confusion Matrix:\")\n",
    "        print(confusion_matrix(y_test, predictions))\n",
    "        print(\"Classification Report:\")\n",
    "        print(classification_report(y_test, predictions))\n",
    "        print(\"Accuracy Score:\", accuracy_score(y_test, predictions))\n",
    "        print(\"\\n\")\n",
    "\n",
    "train_evaluate_models()\n"
   ]
  },
  {
   "cell_type": "code",
   "execution_count": 83,
   "metadata": {},
   "outputs": [
    {
     "name": "stdout",
     "output_type": "stream",
     "text": [
      "Confusion Matrix:\n",
      "[[168  32]\n",
      " [ 30 170]]\n",
      "\n",
      "Classification Report:\n",
      "              precision    recall  f1-score   support\n",
      "\n",
      "         neg       0.85      0.84      0.84       200\n",
      "         pos       0.84      0.85      0.85       200\n",
      "\n",
      "    accuracy                           0.84       400\n",
      "   macro avg       0.85      0.84      0.84       400\n",
      "weighted avg       0.85      0.84      0.84       400\n",
      "\n",
      "\n",
      "Accuracy Score: 0.845\n"
     ]
    }
   ],
   "source": [
    "from sklearn.preprocessing import LabelEncoder\n",
    "\n",
    "# Convert labels to numeric values\n",
    "encoder = LabelEncoder()\n",
    "y_train_encoded = encoder.fit_transform(y_train)\n",
    "y_test_encoded = encoder.transform(y_test)\n",
    "\n",
    "# Initialize XGBoost classifier\n",
    "xgb_clf = XGBClassifier(use_label_encoder=False, eval_metric='logloss')\n",
    "\n",
    "# Fit the model\n",
    "xgb_clf.fit(data_train_processed, y_train_encoded)\n",
    "\n",
    "# Predict the labels of the test set\n",
    "xgb_pred = xgb_clf.predict(data_test_processed)\n",
    "\n",
    "# Convert the predictions back to the original labels\n",
    "xgb_pred_labels = encoder.inverse_transform(xgb_pred.astype(int))\n",
    "\n",
    "# Evaluation metrics\n",
    "print(\"Confusion Matrix:\")\n",
    "print(confusion_matrix(y_test, xgb_pred_labels))\n",
    "print(\"\\nClassification Report:\")\n",
    "print(classification_report(y_test, xgb_pred_labels))\n",
    "print(\"\\nAccuracy Score:\", accuracy_score(y_test, xgb_pred_labels))"
   ]
  }
 ],
 "metadata": {
  "kernelspec": {
   "display_name": "Python 3",
   "language": "python",
   "name": "python3"
  },
  "language_info": {
   "codemirror_mode": {
    "name": "ipython",
    "version": 3
   },
   "file_extension": ".py",
   "mimetype": "text/x-python",
   "name": "python",
   "nbconvert_exporter": "python",
   "pygments_lexer": "ipython3",
   "version": "3.10.6"
  }
 },
 "nbformat": 4,
 "nbformat_minor": 2
}
